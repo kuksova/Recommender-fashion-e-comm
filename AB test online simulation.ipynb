{
 "cells": [
  {
   "cell_type": "code",
   "execution_count": null,
   "id": "8d465f90-7fd0-4c05-a651-261307a4352f",
   "metadata": {},
   "outputs": [],
   "source": []
  },
  {
   "cell_type": "markdown",
   "id": "e1ac276a-f493-4afb-89dd-507ded1c2d63",
   "metadata": {},
   "source": [
    "## A/B test online simulation\n",
    "\n",
    "1. Split test_set customers into two subgroups (A and B).\n",
    "2. For Group A, generate baseline recommendations.\n",
    "3. For Group B, generate recommendations based on the new model.\n",
    "4. Calculate the CTR (or hit rate, meaning \"whether the purchased item was found in the top K\").\n",
    "5. Run a z-test for significance."
   ]
  },
  {
   "cell_type": "code",
   "execution_count": 2,
   "id": "870eb6d2-8c39-4949-a79f-e69be6635d98",
   "metadata": {},
   "outputs": [],
   "source": [
    "import numpy as np\n",
    "import pandas as pd"
   ]
  },
  {
   "cell_type": "code",
   "execution_count": 3,
   "id": "9a19ff71-a68b-4876-8799-211267cc1476",
   "metadata": {},
   "outputs": [
    {
     "data": {
      "text/plain": [
       "(10000, 5)"
      ]
     },
     "execution_count": 3,
     "metadata": {},
     "output_type": "execute_result"
    }
   ],
   "source": [
    "chunk_of_test_set = pd.read_csv('chunk_of_test_set.csv')\n",
    "chunk_of_test_set.shape"
   ]
  },
  {
   "cell_type": "code",
   "execution_count": 6,
   "id": "278ce219-3c30-498c-b6bd-955c001ca824",
   "metadata": {},
   "outputs": [],
   "source": [
    "candidates_features = pd.read_csv('candidates_features_chunk.csv')\n",
    "drop_cols = [\"club_member_status\",\t\"fashion_news_frequency\"]\n",
    "data = candidates_features.drop(columns=drop_cols)\n"
   ]
  },
  {
   "cell_type": "code",
   "execution_count": 7,
   "id": "4da3e70e-36c4-4a71-9e16-3a1231144261",
   "metadata": {},
   "outputs": [
    {
     "data": {
      "text/plain": [
       "<catboost.core.CatBoostClassifier at 0x1084178b0>"
      ]
     },
     "execution_count": 7,
     "metadata": {},
     "output_type": "execute_result"
    }
   ],
   "source": [
    "from catboost import CatBoostClassifier\n",
    "\n",
    "model = CatBoostClassifier()\n",
    "model.load_model(\"catboost_recommender.cbm\")"
   ]
  },
  {
   "cell_type": "code",
   "execution_count": 8,
   "id": "8a0fea7c-7961-4001-b64e-1a3cef84327a",
   "metadata": {},
   "outputs": [],
   "source": [
    "data[\"pred_prob\"] = model.predict_proba(data.drop(columns=[\"customer_id\", \"article_id\", \"label\"], errors='ignore'))[:, 1]\n"
   ]
  },
  {
   "cell_type": "code",
   "execution_count": 9,
   "id": "1e8ce607-6c02-4f28-bb40-352bad6177e0",
   "metadata": {},
   "outputs": [],
   "source": [
    "# chunk_of_test_set = 1000 rows, 8937 unique customers. \n",
    "# n_A = 4000, n_B = 4000, total \n",
    "\n",
    "n = 4000  \n",
    "\n",
    "test_users = chunk_of_test_set['customer_id'].unique()\n",
    "np.random.seed(42)\n",
    "shuffled = np.random.permutation(test_users)\n",
    "group_A = shuffled[:4000]\n",
    "group_B = shuffled[4000:8000]\n",
    "\n",
    "\n",
    "# Get customer_id + features from train_set, Using for predictions. \n",
    "#test_A = data[data['customer_id'].isin(group_A)]\n",
    "\n",
    "test_B = chunk_of_test_set[chunk_of_test_set['customer_id'].isin(group_B)]\n",
    "ground_truth_test_B = test_B.groupby('customer_id')['article_id'].apply(set).to_dict()\n",
    "\n",
    "candidates_B = data[data['customer_id'].isin(group_B)]\n"
   ]
  },
  {
   "cell_type": "code",
   "execution_count": 10,
   "id": "2e4a2d58-6c23-4268-8fe4-6149243f7b9d",
   "metadata": {},
   "outputs": [],
   "source": [
    "b_users = candidates_B['customer_id'].unique()\n",
    "test_B = chunk_of_test_set[chunk_of_test_set['customer_id'].isin(b_users)]\n",
    "ground_truth_test_B = test_B.groupby('customer_id')['article_id'].apply(set).to_dict()"
   ]
  },
  {
   "cell_type": "code",
   "execution_count": 16,
   "id": "3af02665-c254-4c66-8ed0-8d19130771ef",
   "metadata": {},
   "outputs": [
    {
     "data": {
      "text/plain": [
       "3675"
      ]
     },
     "execution_count": 16,
     "metadata": {},
     "output_type": "execute_result"
    }
   ],
   "source": [
    "len(ground_truth_test_B)"
   ]
  },
  {
   "cell_type": "code",
   "execution_count": 11,
   "id": "b20caf97-81bd-41a3-b3e5-520a5c9f144d",
   "metadata": {},
   "outputs": [
    {
     "name": "stderr",
     "output_type": "stream",
     "text": [
      "/var/folders/mr/qmr_h7v95wzg0h31_h_l0vrh0000gn/T/ipykernel_4183/2459071363.py:4: SettingWithCopyWarning: \n",
      "A value is trying to be set on a copy of a slice from a DataFrame.\n",
      "Try using .loc[row_indexer,col_indexer] = value instead\n",
      "\n",
      "See the caveats in the documentation: https://pandas.pydata.org/pandas-docs/stable/user_guide/indexing.html#returning-a-view-versus-a-copy\n",
      "  candidates_B[\"pred_prob\"] = model.predict_proba(candidates_B.drop(columns=[\"customer_id\", \"article_id\", \"label\"], errors='ignore'))[:, 1]\n"
     ]
    }
   ],
   "source": [
    "# New Model prediction for Group B. \n",
    "\n",
    "# predict probability for each canditates. Canditets were selected before. Then ranking. Because MAP@k, consider order. \n",
    "candidates_B[\"pred_prob\"] = model.predict_proba(candidates_B.drop(columns=[\"customer_id\", \"article_id\", \"label\"], errors='ignore'))[:, 1]\n",
    "\n",
    "predicted_candidates_B = (\n",
    "    candidates_B.sort_values([\"customer_id\", \"pred_prob\"], ascending=[True, False])\n",
    "    .groupby(\"customer_id\")[\"article_id\"]\n",
    "    .apply(lambda x: list(x.head(12))) # Take Top 12\n",
    "    .reset_index(name=\"predictions\")\n",
    ")"
   ]
  },
  {
   "cell_type": "code",
   "execution_count": 15,
   "id": "b0923866-312f-4df7-b880-ec475f6032fe",
   "metadata": {},
   "outputs": [
    {
     "name": "stdout",
     "output_type": "stream",
     "text": [
      "MAP@12: 0.0195\n"
     ]
    }
   ],
   "source": [
    "from src.map_at_k1 import map_at_k\n",
    "\n",
    "map12 = map_at_k(ground_truth_test_B, predicted_candidates_B, k=12)\n",
    "print(f\"MAP@12: {map12:.4f}\")"
   ]
  },
  {
   "cell_type": "code",
   "execution_count": 19,
   "id": "6aee1d63-0198-474e-8098-c298069ada49",
   "metadata": {},
   "outputs": [],
   "source": [
    "def calc_ctr(gr_tr, user_candidates, k=12):\n",
    "    ''' Calculate CTR (hit-rate: purchased articles hit top-K)'''\n",
    "    clicks = []\n",
    "    for user, target_items in gr_tr.items():\n",
    "        # recommend candidates for purchases\n",
    "        recs = (user_candidates[user_candidates['customer_id']==user]['predictions']).values[0]\n",
    "        \n",
    "        hit = int(any(item in recs for item in target_items))  # 1 if guess, else 0\n",
    "        \n",
    "        clicks.append(hit)\n",
    "    return np.array(clicks)"
   ]
  },
  {
   "cell_type": "code",
   "execution_count": 20,
   "id": "4c575598-eedd-4f07-9fb9-1d946573015c",
   "metadata": {},
   "outputs": [
    {
     "name": "stdout",
     "output_type": "stream",
     "text": [
      "CTR Group B (new model): 0.054\n"
     ]
    }
   ],
   "source": [
    "ctr_B = calc_ctr(ground_truth_test_B, predicted_candidates_B)\n",
    "print(f\"CTR Group B (new model): {ctr_B.mean():.3f}\")"
   ]
  },
  {
   "cell_type": "code",
   "execution_count": 21,
   "id": "b8da2f53-b04b-458d-b85c-cd911395125e",
   "metadata": {},
   "outputs": [],
   "source": [
    "# Calculation for group A; "
   ]
  },
  {
   "cell_type": "code",
   "execution_count": 22,
   "id": "c076c032-e7ba-4d93-8ec8-1b0ac31da308",
   "metadata": {},
   "outputs": [],
   "source": [
    "group_A = shuffled[:4000] # set of customers\n",
    "test_A = chunk_of_test_set[chunk_of_test_set['customer_id'].isin(group_A)]\n",
    "\n",
    "ground_truth_test_A = test_A.groupby('customer_id')['article_id'].apply(set).to_dict()\n",
    "\n",
    "# Global Top 12 Popular Products (by Likelihood or Sales)\n",
    "top12_global = data.groupby(\"article_id\")[\"pred_prob\"].mean().sort_values(ascending=False).head(12).index.tolist()\n",
    "\n",
    "candidates_A = pd.DataFrame({\n",
    "    \"customer_id\": list(group_A),\n",
    "    \"predictions\": [top12_global]*len(group_A)\n",
    "})"
   ]
  },
  {
   "cell_type": "code",
   "execution_count": 23,
   "id": "47892e0c-8c6d-4130-83ca-1571628f7fe5",
   "metadata": {},
   "outputs": [
    {
     "name": "stdout",
     "output_type": "stream",
     "text": [
      "MAP@12: 0.0005\n",
      "CTR Group A (old model): 0.002\n"
     ]
    }
   ],
   "source": [
    "map12 = map_at_k(ground_truth_test_A, candidates_A, k=12)\n",
    "print(f\"MAP@12: {map12:.4f}\")\n",
    "\n",
    "ctr_A = calc_ctr(ground_truth_test_A, candidates_A)\n",
    "print(f\"CTR Group A (old model): {ctr_A.mean():.3f}\")"
   ]
  },
  {
   "cell_type": "code",
   "execution_count": 24,
   "id": "073b5d66-991a-433e-a22e-130000278ea6",
   "metadata": {},
   "outputs": [],
   "source": [
    "#!pip install statsmodels"
   ]
  },
  {
   "cell_type": "code",
   "execution_count": 25,
   "id": "05b7aa96-f42d-484f-aeb1-6708826bd8c1",
   "metadata": {},
   "outputs": [
    {
     "name": "stdout",
     "output_type": "stream",
     "text": [
      "[4000, 3675]\n",
      "Z-statistic: -14.048, p-value: 0.0000\n"
     ]
    }
   ],
   "source": [
    "from statsmodels.stats.proportion import proportions_ztest\n",
    "\n",
    "# Let's use A/B test (z-test for proportion)\n",
    "successes = [ctr_A.sum(), ctr_B.sum()]\n",
    "nobs = [len(ctr_A), len(ctr_B)]\n",
    "print(nobs)\n",
    "\n",
    "z_stat, p_val = proportions_ztest(successes, nobs, alternative='smaller')\n",
    "print(f\"Z-statistic: {z_stat:.3f}, p-value: {p_val:.4f}\")\n"
   ]
  },
  {
   "cell_type": "raw",
   "id": "2ece93ef-4aa3-4084-8539-0535183b2d7b",
   "metadata": {},
   "source": [
    "Conclusions:\n",
    "The trained recommendation model (Group B) showed a CTR of 5.4% versus 0.2% for the old recommendation model (Group A).\n",
    "The difference is statistically significant (z = -14, p < 0.001).\n",
    "It is highly likely that the new system actually improves click-through rates."
   ]
  },
  {
   "cell_type": "code",
   "execution_count": null,
   "id": "defbaf18-9721-4015-b399-6b049725249d",
   "metadata": {},
   "outputs": [],
   "source": []
  }
 ],
 "metadata": {
  "kernelspec": {
   "display_name": "Python 3 (ipykernel)",
   "language": "python",
   "name": "python3"
  },
  "language_info": {
   "codemirror_mode": {
    "name": "ipython",
    "version": 3
   },
   "file_extension": ".py",
   "mimetype": "text/x-python",
   "name": "python",
   "nbconvert_exporter": "python",
   "pygments_lexer": "ipython3",
   "version": "3.9.13"
  }
 },
 "nbformat": 4,
 "nbformat_minor": 5
}
