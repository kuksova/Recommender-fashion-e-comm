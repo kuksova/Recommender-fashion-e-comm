{
 "cells": [
  {
   "cell_type": "code",
   "execution_count": 1,
   "id": "abdc5f93-1224-43b2-9445-71319e1622f4",
   "metadata": {},
   "outputs": [],
   "source": [
    "import numpy as np\n",
    "import pandas as pd"
   ]
  },
  {
   "cell_type": "code",
   "execution_count": 2,
   "id": "53ae06f6-4df7-4fd1-b165-ee990e28a320",
   "metadata": {},
   "outputs": [
    {
     "data": {
      "text/plain": [
       "(31788324, 5)"
      ]
     },
     "execution_count": 2,
     "metadata": {},
     "output_type": "execute_result"
    }
   ],
   "source": [
    "transactions = pd.read_csv('../personalized-fashion-recommendations/transactions_train.csv')\n",
    "transactions.shape"
   ]
  },
  {
   "cell_type": "code",
   "execution_count": 18,
   "id": "bf1b0ca0-d1c4-4a90-9f94-0de861c86d60",
   "metadata": {},
   "outputs": [],
   "source": [
    "articles = pd.read_csv('../personalized-fashion-recommendations/articles.csv')\n",
    "#articles.head(5)"
   ]
  },
  {
   "cell_type": "code",
   "execution_count": 4,
   "id": "fe0667cb-ffdc-4013-af14-e5754ce9abac",
   "metadata": {},
   "outputs": [],
   "source": [
    "df = transactions.merge(articles[['article_id', 'product_code']], on='article_id', how='left')\n"
   ]
  },
  {
   "cell_type": "code",
   "execution_count": 5,
   "id": "d331c89a-96bf-4a4b-bca1-689324aacff8",
   "metadata": {},
   "outputs": [],
   "source": [
    "#transactions.head(5)"
   ]
  },
  {
   "cell_type": "code",
   "execution_count": 3,
   "id": "43379d77-a572-436a-a097-5269e01ba671",
   "metadata": {},
   "outputs": [
    {
     "data": {
      "text/plain": [
       "('2020-09-16', '2020-09-22')"
      ]
     },
     "execution_count": 3,
     "metadata": {},
     "output_type": "execute_result"
    }
   ],
   "source": [
    "split_date = '2020-09-16'\n",
    "train_set = transactions[transactions['t_dat']<split_date]  # \n",
    "test_set = transactions[transactions['t_dat']>=split_date] # '2020-09-16' - '2020-09-22'\n",
    "test_set['t_dat'].min(), test_set['t_dat'].max()"
   ]
  },
  {
   "cell_type": "code",
   "execution_count": 13,
   "id": "c5055e52-24fc-4916-97c8-afccb8847bd3",
   "metadata": {},
   "outputs": [],
   "source": [
    "# Okay, to avoid running the entire dataset through the same data, let's take a chunk from the test_set, but maintain the proportion of users who:\n",
    "# - were in the train_set (old users),\n",
    "# - were not in the train_set (new users).\n",
    "\n",
    "# Step-by-step Logic Algorithm:\n",
    "# 1. Find the train_users set.\n",
    "# 2. Split the test_set into two subsets:\n",
    "# test_old = users who were in the train,\n",
    "# test_new = users who were not in the train.\n",
    "# 3. Calculate the proportion of old/new users in the test.\n",
    "# 4. Select a random subsample (chunk) maintaining these proportions.\n"
   ]
  },
  {
   "cell_type": "code",
   "execution_count": 4,
   "id": "b6050fb1-2d03-44ce-8726-0e8968cbdc41",
   "metadata": {},
   "outputs": [
    {
     "name": "stdout",
     "output_type": "stream",
     "text": [
      "Old users: 92.45%, New users: 7.55%\n",
      "(10000, 5)\n"
     ]
    }
   ],
   "source": [
    "\n",
    "train_users = set(train_set[\"customer_id\"].unique())\n",
    "\n",
    "\n",
    "test_old = test_set[test_set[\"customer_id\"].isin(train_users)]\n",
    "test_new = test_set[~test_set[\"customer_id\"].isin(train_users)]\n",
    "\n",
    "# proportiom\n",
    "p_old = len(test_old) / len(test_set)\n",
    "p_new = len(test_new) / len(test_set)\n",
    "print(f\"Old users: {p_old:.2%}, New users: {p_new:.2%}\")\n",
    "\n",
    "\n",
    "chunk_size = 10000  # flexibla\n",
    "n_old = int(chunk_size * p_old)\n",
    "n_new = chunk_size - n_old\n",
    "\n",
    "chunk_old = test_old.sample(n_old, random_state=42)\n",
    "chunk_new = test_new.sample(n_new, random_state=42)\n",
    "\n",
    "chunk_of_test_set = pd.concat([chunk_old, chunk_new], ignore_index=True)\n",
    "\n",
    "print(chunk_of_test_set.shape)"
   ]
  },
  {
   "cell_type": "code",
   "execution_count": null,
   "id": "d4c13775-53cf-4b19-86ab-e4cf8033adb9",
   "metadata": {},
   "outputs": [],
   "source": []
  },
  {
   "cell_type": "code",
   "execution_count": 6,
   "id": "a91fd176-6b13-419d-970e-0e8754ce7d5c",
   "metadata": {},
   "outputs": [
    {
     "data": {
      "text/plain": [
       "8937"
      ]
     },
     "execution_count": 6,
     "metadata": {},
     "output_type": "execute_result"
    }
   ],
   "source": [
    "chunk_of_test_set['customer_id'].nunique()"
   ]
  },
  {
   "cell_type": "code",
   "execution_count": 5,
   "id": "f633ee69-4bfd-43f0-814b-d77fc52d2bc1",
   "metadata": {},
   "outputs": [
    {
     "data": {
      "text/plain": [
       "8248"
      ]
     },
     "execution_count": 5,
     "metadata": {},
     "output_type": "execute_result"
    }
   ],
   "source": [
    "# Let's build train_set_candidates only for those who are in test_set. \n",
    "\n",
    "lookup_set = set(chunk_of_test_set['customer_id'].tolist())\n",
    "test_customers_in_train = train_set[train_set['customer_id'].isin(lookup_set)].copy()\n",
    "test_customers_in_train['customer_id'].nunique()"
   ]
  },
  {
   "cell_type": "code",
   "execution_count": 7,
   "id": "9527575b-f8fd-438c-a026-c3a602d987e7",
   "metadata": {},
   "outputs": [],
   "source": [
    "train_set = test_customers_in_train.copy()"
   ]
  },
  {
   "cell_type": "code",
   "execution_count": 14,
   "id": "c9595d84-b732-4097-b3aa-24a1932b6c4f",
   "metadata": {},
   "outputs": [
    {
     "data": {
      "text/plain": [
       "672999"
      ]
     },
     "execution_count": 14,
     "metadata": {},
     "output_type": "execute_result"
    }
   ],
   "source": [
    "len(test_customers_in_train)"
   ]
  },
  {
   "cell_type": "markdown",
   "id": "6c73a53d-2656-49a5-a429-98f3b9b348e9",
   "metadata": {},
   "source": [
    "### EDA"
   ]
  },
  {
   "cell_type": "code",
   "execution_count": 6,
   "id": "bfd2d1da-659d-4f7e-a0b2-f71025e332ba",
   "metadata": {},
   "outputs": [],
   "source": [
    "# Frequency of purchases per user during the week?\n",
    "# Overlap with prevous purchases?\n",
    "\n",
    "\n",
    "user_history_items = train_set.groupby('customer_id')['article_id'].apply(set).reset_index()\n",
    "target_week_items = test_set.groupby('customer_id')['article_id'].apply(set).reset_index()\n"
   ]
  },
  {
   "cell_type": "code",
   "execution_count": 7,
   "id": "4eebbafb-da79-45de-bde7-eff00c4a652a",
   "metadata": {},
   "outputs": [
    {
     "data": {
      "text/html": [
       "<div>\n",
       "<style scoped>\n",
       "    .dataframe tbody tr th:only-of-type {\n",
       "        vertical-align: middle;\n",
       "    }\n",
       "\n",
       "    .dataframe tbody tr th {\n",
       "        vertical-align: top;\n",
       "    }\n",
       "\n",
       "    .dataframe thead th {\n",
       "        text-align: right;\n",
       "    }\n",
       "</style>\n",
       "<table border=\"1\" class=\"dataframe\">\n",
       "  <thead>\n",
       "    <tr style=\"text-align: right;\">\n",
       "      <th></th>\n",
       "      <th>customer_id</th>\n",
       "      <th>article_id</th>\n",
       "    </tr>\n",
       "  </thead>\n",
       "  <tbody>\n",
       "    <tr>\n",
       "      <th>0</th>\n",
       "      <td>00039306476aaf41a07fed942884f16b30abfa83a2a8be...</td>\n",
       "      <td>{624486001}</td>\n",
       "    </tr>\n",
       "    <tr>\n",
       "      <th>1</th>\n",
       "      <td>0003e867a930d0d6842f923d6ba7c9b77aba33fe2a0fbf...</td>\n",
       "      <td>{827487003}</td>\n",
       "    </tr>\n",
       "    <tr>\n",
       "      <th>2</th>\n",
       "      <td>000493dd9fc463df1acc2081450c9e75ef8e87d5dd17ed...</td>\n",
       "      <td>{757926001, 640021019, 788575004}</td>\n",
       "    </tr>\n",
       "    <tr>\n",
       "      <th>3</th>\n",
       "      <td>000525e3fe01600d717da8423643a8303390a055c578ed...</td>\n",
       "      <td>{874110016}</td>\n",
       "    </tr>\n",
       "    <tr>\n",
       "      <th>4</th>\n",
       "      <td>00077dbd5c4a4991e092e63893ccf29294a9d5c46e8501...</td>\n",
       "      <td>{158340001, 935892001, 799365027, 918171001, 9...</td>\n",
       "    </tr>\n",
       "  </tbody>\n",
       "</table>\n",
       "</div>"
      ],
      "text/plain": [
       "                                         customer_id  \\\n",
       "0  00039306476aaf41a07fed942884f16b30abfa83a2a8be...   \n",
       "1  0003e867a930d0d6842f923d6ba7c9b77aba33fe2a0fbf...   \n",
       "2  000493dd9fc463df1acc2081450c9e75ef8e87d5dd17ed...   \n",
       "3  000525e3fe01600d717da8423643a8303390a055c578ed...   \n",
       "4  00077dbd5c4a4991e092e63893ccf29294a9d5c46e8501...   \n",
       "\n",
       "                                          article_id  \n",
       "0                                        {624486001}  \n",
       "1                                        {827487003}  \n",
       "2                  {757926001, 640021019, 788575004}  \n",
       "3                                        {874110016}  \n",
       "4  {158340001, 935892001, 799365027, 918171001, 9...  "
      ]
     },
     "execution_count": 7,
     "metadata": {},
     "output_type": "execute_result"
    }
   ],
   "source": [
    "target_week_items.head(5)"
   ]
  },
  {
   "cell_type": "code",
   "execution_count": 58,
   "id": "5c2b1366-f524-4347-83f2-0683680a2ddc",
   "metadata": {},
   "outputs": [
    {
     "name": "stdout",
     "output_type": "stream",
     "text": [
      "00039306476aaf41a07fed942884f16b30abfa83a2a8bea972019098d6406793\n",
      "0003e867a930d0d6842f923d6ba7c9b77aba33fe2a0fbf4672f30b3e622fec55\n",
      "000493dd9fc463df1acc2081450c9e75ef8e87d5dd17ed6396773839f6bf71a9\n",
      "000525e3fe01600d717da8423643a8303390a055c578ed8a97256600baf54565\n",
      "00077dbd5c4a4991e092e63893ccf29294a9d5c46e85010e95f2fc10bf9437a4\n"
     ]
    },
    {
     "data": {
      "text/html": [
       "<div>\n",
       "<style scoped>\n",
       "    .dataframe tbody tr th:only-of-type {\n",
       "        vertical-align: middle;\n",
       "    }\n",
       "\n",
       "    .dataframe tbody tr th {\n",
       "        vertical-align: top;\n",
       "    }\n",
       "\n",
       "    .dataframe thead th {\n",
       "        text-align: right;\n",
       "    }\n",
       "</style>\n",
       "<table border=\"1\" class=\"dataframe\">\n",
       "  <thead>\n",
       "    <tr style=\"text-align: right;\">\n",
       "      <th></th>\n",
       "      <th>customer_id</th>\n",
       "      <th>article_id</th>\n",
       "    </tr>\n",
       "  </thead>\n",
       "  <tbody>\n",
       "    <tr>\n",
       "      <th>177</th>\n",
       "      <td>00077dbd5c4a4991e092e63893ccf29294a9d5c46e8501...</td>\n",
       "      <td>{929744001, 826955011, 714790020, 861685001, 9...</td>\n",
       "    </tr>\n",
       "  </tbody>\n",
       "</table>\n",
       "</div>"
      ],
      "text/plain": [
       "                                           customer_id  \\\n",
       "177  00077dbd5c4a4991e092e63893ccf29294a9d5c46e8501...   \n",
       "\n",
       "                                            article_id  \n",
       "177  {929744001, 826955011, 714790020, 861685001, 9...  "
      ]
     },
     "execution_count": 58,
     "metadata": {},
     "output_type": "execute_result"
    }
   ],
   "source": [
    "i = 0\n",
    "for idx, row  in target_week_items.iterrows():\n",
    "    user_id = row['customer_id']\n",
    "    articles = row['article_id']\n",
    "    b = user_history_items[user_history_items['customer_id'] == user_id]\n",
    "    print(user_id, )\n",
    "    i+=1\n",
    "    if i == 5:\n",
    "        break\n",
    "b"
   ]
  },
  {
   "cell_type": "code",
   "execution_count": 59,
   "id": "5a80f018-ce6c-4143-b616-38f2f1eb129e",
   "metadata": {},
   "outputs": [],
   "source": [
    "f = b['article_id'].tolist()\n",
    "#articles = {756192001}"
   ]
  },
  {
   "cell_type": "code",
   "execution_count": 60,
   "id": "357913aa-1774-409b-acf9-176df90c4c57",
   "metadata": {},
   "outputs": [
    {
     "data": {
      "text/plain": [
       "(14, 57)"
      ]
     },
     "execution_count": 60,
     "metadata": {},
     "output_type": "execute_result"
    }
   ],
   "source": [
    "len(articles), len(f[0])"
   ]
  },
  {
   "cell_type": "code",
   "execution_count": 61,
   "id": "f994aa1f-59fa-46d3-9ca8-d3b33b3d2505",
   "metadata": {},
   "outputs": [
    {
     "data": {
      "text/plain": [
       "{448509014}"
      ]
     },
     "execution_count": 61,
     "metadata": {},
     "output_type": "execute_result"
    }
   ],
   "source": [
    "common_elemnts = (articles & f[0]) # both them are sets already.\n",
    "common_elemnts"
   ]
  },
  {
   "cell_type": "markdown",
   "id": "78e32e81-63b0-463d-9e25-4a975a292f5f",
   "metadata": {},
   "source": [
    "### What we can do for customers who has no repeated purchases?\n",
    "What can be done for inactive users?\n",
    "\n",
    "For example, I looked at 5 customers, and they only had 1 or 3 purchases each. And they didn't appear in the user_history_purchases table even once."
   ]
  },
  {
   "cell_type": "code",
   "execution_count": 62,
   "id": "00712bcf-31c5-49d4-a7bb-3555ddbb3a85",
   "metadata": {},
   "outputs": [
    {
     "name": "stdout",
     "output_type": "stream",
     "text": [
      "2020-08-15 2020-09-15\n"
     ]
    }
   ],
   "source": [
    "# Top 12 \n",
    "window_start = '2020-08-15' # 30 days \n",
    "window_df = train_set[(train_set['t_dat'] >= window_start)]\n",
    "print(window_df['t_dat'].min(), window_df['t_dat'].max())\n",
    "\n",
    "top_products = ( window_df.groupby(\"article_id\")[\"customer_id\"].count().sort_values(ascending=False).head(12)\n",
    "                        .index.tolist())"
   ]
  },
  {
   "cell_type": "code",
   "execution_count": 68,
   "id": "6f48a43a-e582-4527-af81-ba9b6ba6e82a",
   "metadata": {},
   "outputs": [
    {
     "data": {
      "text/plain": [
       "{448509014, 915529003}"
      ]
     },
     "execution_count": 68,
     "metadata": {},
     "output_type": "execute_result"
    }
   ],
   "source": [
    "articles & set(top_products)"
   ]
  },
  {
   "cell_type": "raw",
   "id": "7c0bceed-d077-47c1-909d-a4c585260a46",
   "metadata": {},
   "source": [
    "# The main information for them will be through the popularity of products, categories and price, and not through their personal history."
   ]
  },
  {
   "cell_type": "code",
   "execution_count": 77,
   "id": "b6d94b1c-3a69-47c6-a6ba-e918124727ee",
   "metadata": {},
   "outputs": [],
   "source": [
    "# category_popularity  - how to calculate?\n",
    "#How many unique users purchased this category?\n",
    "# \"Top N popular products in each category\"\n",
    "\n",
    "category_popularity_users = df.groupby('product_code')['customer_id'].nunique().reset_index()\n",
    "category_popularity_users.rename(columns={'customer_id': 'category_popularity_users'}, inplace=True)\n",
    "\n",
    "\n",
    "top_n = 5\n",
    "category_popularity_users['rank_in_category'] = category_popularity_users.groupby('product_code')['category_popularity_users'] \\\n",
    "                                                      .rank(method='first', ascending=False)\n",
    "N = 12\n",
    "top_items = category_popularity_users[category_popularity_users['rank_in_category'] <= N]\n"
   ]
  },
  {
   "cell_type": "code",
   "execution_count": 72,
   "id": "0ecc3917-699b-4146-bcd3-83612c0ee76f",
   "metadata": {},
   "outputs": [],
   "source": []
  },
  {
   "cell_type": "code",
   "execution_count": 78,
   "id": "0661a0dc-114b-4ee0-84f6-2728a0aabc18",
   "metadata": {},
   "outputs": [
    {
     "data": {
      "text/plain": [
       "rank_in_category\n",
       "1.0    46834\n",
       "Name: count, dtype: int64"
      ]
     },
     "execution_count": 78,
     "metadata": {},
     "output_type": "execute_result"
    }
   ],
   "source": [
    "top_items['rank_in_category'].value_counts()"
   ]
  },
  {
   "cell_type": "code",
   "execution_count": 80,
   "id": "2e4b0acf-c718-42a1-be99-36d9b9a9d699",
   "metadata": {},
   "outputs": [],
   "source": [
    "# Объединяем с категориями\n",
    "# df = transactions.merge(items[['article_id', 'item_category']], on='article_id', how='left')\n",
    "\n",
    "# Считаем количество покупок каждого товара\n",
    "item_popularity = df.groupby(['product_code', 'article_id'])['customer_id'].count().reset_index()\n",
    "item_popularity.rename(columns={'customer_id': 'product_code'}, inplace=True)\n"
   ]
  },
  {
   "cell_type": "markdown",
   "id": "d648ae28-41e9-43f2-8777-3060a3ce6c66",
   "metadata": {},
   "source": [
    "### Candidates"
   ]
  },
  {
   "cell_type": "code",
   "execution_count": 15,
   "id": "cf6b068e-ff2d-4362-8918-5c472efac5e9",
   "metadata": {},
   "outputs": [
    {
     "name": "stdout",
     "output_type": "stream",
     "text": [
      "2020-08-15 2020-09-15\n"
     ]
    }
   ],
   "source": [
    "# Candidates1 :Top 300 Popular Products (weekly 09-16 → 09-22) or week before. or 30 days. \n",
    "\n",
    "N = 12\n",
    "window_start = '2020-08-15' # 30 days \n",
    "window_df = train_set[(train_set['t_dat'] >= window_start)]\n",
    "print(window_df['t_dat'].min(), window_df['t_dat'].max())\n",
    "\n",
    "top_products = ( window_df.groupby(\"article_id\")[\"customer_id\"].count().sort_values(ascending=False).head(N)\n",
    "                        .index.tolist())"
   ]
  },
  {
   "cell_type": "code",
   "execution_count": 16,
   "id": "5c885046-b0fb-4edc-bd97-0196cf1d390e",
   "metadata": {},
   "outputs": [],
   "source": [
    "# Candidates: Previously purchased items. \n",
    "user_past_items = (\n",
    "    train_set.groupby(\"customer_id\")[\"article_id\"]\n",
    "    .unique()\n",
    "    .reset_index()\n",
    "    .rename(columns={\"article_id\": \"past_items\"})\n",
    ")"
   ]
  },
  {
   "cell_type": "code",
   "execution_count": 19,
   "id": "51e05fd2-ae63-4a48-aa13-57f9418074d0",
   "metadata": {},
   "outputs": [],
   "source": [
    "# Candidates: products with the same product_code.\n",
    "train_set = train_set.merge(articles[[\"article_id\", \"product_code\"]], on=\"article_id\", how=\"left\")\n",
    "\n",
    "user_product_codes = (\n",
    "    train_set.groupby(\"customer_id\")[\"product_code\"]\n",
    "    .unique()\n",
    "    .reset_index()\n",
    ")\n",
    "\n",
    "# для каждого product_code возьмём все article_id\n",
    "product_code2articles = (\n",
    "    articles.groupby(\"product_code\")[\"article_id\"]\n",
    "    .unique()\n",
    "    .to_dict()\n",
    ")\n",
    "\n",
    "def expand_by_product_code(product_codes):\n",
    "    candidates = []\n",
    "    for pc in product_codes:\n",
    "        candidates.extend(product_code2articles.get(pc, []))\n",
    "    return list(set(candidates))\n",
    "\n",
    "user_product_code_items = user_product_codes.copy()\n",
    "user_product_code_items[\"product_code_items\"] = user_product_code_items[\"product_code\"].apply(expand_by_product_code)\n",
    "user_product_code_items = user_product_code_items[[\"customer_id\", \"product_code_items\"]]\n"
   ]
  },
  {
   "cell_type": "code",
   "execution_count": 20,
   "id": "4b858655-fca9-4938-9d78-babc75789883",
   "metadata": {},
   "outputs": [],
   "source": [
    "# Union Candidates \n",
    "candidates = user_past_items.merge(user_product_code_items, on=\"customer_id\", how=\"outer\")\n",
    "\n",
    "def merge_candidates(row):\n",
    "    items = set(top_products)  # global gloabal \n",
    "    if isinstance(row[\"past_items\"], (list, pd.Series, pd.Index)):\n",
    "        items.update(row[\"past_items\"])\n",
    "    if isinstance(row[\"product_code_items\"], (list, pd.Series, pd.Index)):\n",
    "        items.update(row[\"product_code_items\"])\n",
    "    return list(items)\n",
    "\n",
    "candidates[\"candidates\"] = candidates.apply(merge_candidates, axis=1)"
   ]
  },
  {
   "cell_type": "code",
   "execution_count": 21,
   "id": "9a71d6d1-9a79-4138-a849-6d2cac25d63c",
   "metadata": {},
   "outputs": [
    {
     "name": "stdout",
     "output_type": "stream",
     "text": [
      "Final candidates shape: (3086119, 2)\n",
      "                                         customer_id article_id\n",
      "0  00077dbd5c4a4991e092e63893ccf29294a9d5c46e8501...  733803009\n",
      "1  00077dbd5c4a4991e092e63893ccf29294a9d5c46e8501...  733803011\n",
      "2  00077dbd5c4a4991e092e63893ccf29294a9d5c46e8501...  733803014\n",
      "3  00077dbd5c4a4991e092e63893ccf29294a9d5c46e8501...  732842001\n",
      "4  00077dbd5c4a4991e092e63893ccf29294a9d5c46e8501...  732842002\n"
     ]
    }
   ],
   "source": [
    "# In to dataframe (customer_id, article_id). \n",
    "final_candidates = (\n",
    "    candidates[[\"customer_id\", \"candidates\"]]\n",
    "    .explode(\"candidates\")\n",
    "    .rename(columns={\"candidates\": \"article_id\"})\n",
    "    .dropna()\n",
    "    .reset_index(drop=True)\n",
    ")\n",
    "\n",
    "print(\"Final candidates shape:\", final_candidates.shape)\n",
    "print(final_candidates.head())"
   ]
  },
  {
   "cell_type": "code",
   "execution_count": 35,
   "id": "8bb2e8ec-cb79-41e3-8570-eb00b955ede0",
   "metadata": {},
   "outputs": [],
   "source": [
    "final_candidates.to_csv('final_candidates.csv', index=False)"
   ]
  },
  {
   "cell_type": "code",
   "execution_count": 23,
   "id": "ac4f4156-5c43-4434-bc76-c366122cd69c",
   "metadata": {},
   "outputs": [
    {
     "data": {
      "text/plain": [
       "3086119"
      ]
     },
     "execution_count": 23,
     "metadata": {},
     "output_type": "execute_result"
    }
   ],
   "source": [
    "len(final_candidates)"
   ]
  },
  {
   "cell_type": "code",
   "execution_count": 15,
   "id": "e4172f11-ad1d-45e7-9335-d663b157238d",
   "metadata": {},
   "outputs": [
    {
     "data": {
      "text/plain": [
       "184602897"
      ]
     },
     "execution_count": 15,
     "metadata": {},
     "output_type": "execute_result"
    }
   ],
   "source": [
    "len(final_candidates)"
   ]
  },
  {
   "cell_type": "code",
   "execution_count": 16,
   "id": "70e7595e-b8f4-4b37-8ca7-c206f21cec85",
   "metadata": {},
   "outputs": [
    {
     "data": {
      "text/plain": [
       "1356709"
      ]
     },
     "execution_count": 16,
     "metadata": {},
     "output_type": "execute_result"
    }
   ],
   "source": [
    "groups = final_candidates.groupby('customer_id')['article_id'].count().to_dict()\n",
    "len(groups)"
   ]
  },
  {
   "cell_type": "code",
   "execution_count": 20,
   "id": "b5a08c7c-cbf6-4c07-a372-b59b60926242",
   "metadata": {},
   "outputs": [
    {
     "name": "stdout",
     "output_type": "stream",
     "text": [
      "00000dbacae5abe5e23885899a1fa44253a17956c6d1c3d25f88aa139fdfc657 121\n",
      "0000423b00ade91418cceaf3b26c6af3dd342b51fd051eec9c12fb36984420fa 419\n",
      "000058a12d5b43e67d225668fa1f8d618c13dc232df0cad8ffe7ad4a1091e318 100\n",
      "00005ca1c9ed5f5146b52ac8639a40ca9d57aeff4d1bd2c5feb1ca5dff07c43e 19\n",
      "00006413d8573cd20ed7128e53b7b13819fe5cfc2d801fe7fc0f26dd8d65a85a 84\n"
     ]
    }
   ],
   "source": [
    "i = 0\n",
    "for cust, cand in groups.items():\n",
    "    print(cust, cand)\n",
    "    i+=1\n",
    "    if i==5:\n",
    "        break"
   ]
  },
  {
   "cell_type": "code",
   "execution_count": 21,
   "id": "8d591ff1-24d1-4c5a-8e8a-7d9e7acaeaef",
   "metadata": {},
   "outputs": [
    {
     "data": {
      "text/html": [
       "<div>\n",
       "<style scoped>\n",
       "    .dataframe tbody tr th:only-of-type {\n",
       "        vertical-align: middle;\n",
       "    }\n",
       "\n",
       "    .dataframe tbody tr th {\n",
       "        vertical-align: top;\n",
       "    }\n",
       "\n",
       "    .dataframe thead th {\n",
       "        text-align: right;\n",
       "    }\n",
       "</style>\n",
       "<table border=\"1\" class=\"dataframe\">\n",
       "  <thead>\n",
       "    <tr style=\"text-align: right;\">\n",
       "      <th></th>\n",
       "      <th>t_dat</th>\n",
       "      <th>customer_id</th>\n",
       "      <th>article_id</th>\n",
       "      <th>price</th>\n",
       "      <th>sales_channel_id</th>\n",
       "      <th>product_code</th>\n",
       "    </tr>\n",
       "  </thead>\n",
       "  <tbody>\n",
       "    <tr>\n",
       "      <th>11576669</th>\n",
       "      <td>2019-06-09</td>\n",
       "      <td>00005ca1c9ed5f5146b52ac8639a40ca9d57aeff4d1bd2...</td>\n",
       "      <td>742079001</td>\n",
       "      <td>0.030492</td>\n",
       "      <td>2</td>\n",
       "      <td>742079</td>\n",
       "    </tr>\n",
       "    <tr>\n",
       "      <th>11576670</th>\n",
       "      <td>2019-06-09</td>\n",
       "      <td>00005ca1c9ed5f5146b52ac8639a40ca9d57aeff4d1bd2...</td>\n",
       "      <td>732413001</td>\n",
       "      <td>0.030492</td>\n",
       "      <td>2</td>\n",
       "      <td>732413</td>\n",
       "    </tr>\n",
       "  </tbody>\n",
       "</table>\n",
       "</div>"
      ],
      "text/plain": [
       "               t_dat                                        customer_id  \\\n",
       "11576669  2019-06-09  00005ca1c9ed5f5146b52ac8639a40ca9d57aeff4d1bd2...   \n",
       "11576670  2019-06-09  00005ca1c9ed5f5146b52ac8639a40ca9d57aeff4d1bd2...   \n",
       "\n",
       "          article_id     price  sales_channel_id  product_code  \n",
       "11576669   742079001  0.030492                 2        742079  \n",
       "11576670   732413001  0.030492                 2        732413  "
      ]
     },
     "execution_count": 21,
     "metadata": {},
     "output_type": "execute_result"
    }
   ],
   "source": [
    "train_set[train_set['customer_id']=='00005ca1c9ed5f5146b52ac8639a40ca9d57aeff4d1bd2c5feb1ca5dff07c43e']"
   ]
  },
  {
   "cell_type": "code",
   "execution_count": 22,
   "id": "fc1f1d56-fb65-4da2-a5e0-e26ce126d7ea",
   "metadata": {},
   "outputs": [
    {
     "data": {
      "text/html": [
       "<div>\n",
       "<style scoped>\n",
       "    .dataframe tbody tr th:only-of-type {\n",
       "        vertical-align: middle;\n",
       "    }\n",
       "\n",
       "    .dataframe tbody tr th {\n",
       "        vertical-align: top;\n",
       "    }\n",
       "\n",
       "    .dataframe thead th {\n",
       "        text-align: right;\n",
       "    }\n",
       "</style>\n",
       "<table border=\"1\" class=\"dataframe\">\n",
       "  <thead>\n",
       "    <tr style=\"text-align: right;\">\n",
       "      <th></th>\n",
       "      <th>t_dat</th>\n",
       "      <th>customer_id</th>\n",
       "      <th>article_id</th>\n",
       "      <th>price</th>\n",
       "      <th>sales_channel_id</th>\n",
       "    </tr>\n",
       "  </thead>\n",
       "  <tbody>\n",
       "  </tbody>\n",
       "</table>\n",
       "</div>"
      ],
      "text/plain": [
       "Empty DataFrame\n",
       "Columns: [t_dat, customer_id, article_id, price, sales_channel_id]\n",
       "Index: []"
      ]
     },
     "execution_count": 22,
     "metadata": {},
     "output_type": "execute_result"
    }
   ],
   "source": [
    "# It's interesting that the product_code is different for the same article_id. No. That's not true, it is different;\n",
    "\n",
    "test_set[test_set['customer_id']=='00005ca1c9ed5f5146b52ac8639a40ca9d57aeff4d1bd2c5feb1ca5dff07c43e']"
   ]
  },
  {
   "cell_type": "code",
   "execution_count": null,
   "id": "a0c87c79-baed-43a3-8651-6056c72ac110",
   "metadata": {},
   "outputs": [],
   "source": [
    "\n"
   ]
  },
  {
   "cell_type": "markdown",
   "id": "206f4394-1073-4a5b-b92a-c9c08fdf9e9b",
   "metadata": {},
   "source": [
    "### Feature Engineering. Add to each features. "
   ]
  },
  {
   "cell_type": "code",
   "execution_count": 24,
   "id": "eb88ba74-bbbf-4727-941d-a88c1ac8e8f8",
   "metadata": {},
   "outputs": [],
   "source": [
    "# 1. Customer Features. \n",
    "cust_stats = (\n",
    "    train_set.groupby(\"customer_id\")\n",
    "    .agg(\n",
    "        num_unique_items=(\"article_id\", \"nunique\"),\n",
    "        num_purchases=(\"article_id\", \"count\"),\n",
    "        mean_price=(\"price\", \"mean\"),\n",
    "        max_price=(\"price\", \"max\"),\n",
    "        mean_channel=(\"sales_channel_id\", \"mean\"),\n",
    "            )\n",
    "    .reset_index()\n",
    ")"
   ]
  },
  {
   "cell_type": "code",
   "execution_count": 25,
   "id": "72d719d3-a22d-4d00-9c0b-04ec63a23fc9",
   "metadata": {},
   "outputs": [],
   "source": [
    "customers = pd.read_csv('../personalized-fashion-recommendations/customers.csv')"
   ]
  },
  {
   "cell_type": "code",
   "execution_count": 26,
   "id": "3e305f49-e5e8-4717-af09-73cdf29466a5",
   "metadata": {},
   "outputs": [],
   "source": [
    "cust = customers[[\"customer_id\", \"age\", \"club_member_status\", \"fashion_news_frequency\"]]"
   ]
  },
  {
   "cell_type": "code",
   "execution_count": 27,
   "id": "c39ab864-3146-449c-b4f7-6fd2fae2b78c",
   "metadata": {},
   "outputs": [],
   "source": [
    "customer_features = cust.merge(cust_stats, on=\"customer_id\", how=\"left\")"
   ]
  },
  {
   "cell_type": "code",
   "execution_count": 28,
   "id": "9adbad01-f388-4600-a309-34d1a925b211",
   "metadata": {},
   "outputs": [
    {
     "data": {
      "text/plain": [
       "1371980"
      ]
     },
     "execution_count": 28,
     "metadata": {},
     "output_type": "execute_result"
    }
   ],
   "source": [
    "len(customer_features)"
   ]
  },
  {
   "cell_type": "code",
   "execution_count": 31,
   "id": "fe3e8e22-f737-4b22-820e-a0baacac09a5",
   "metadata": {},
   "outputs": [
    {
     "data": {
      "text/html": [
       "<div>\n",
       "<style scoped>\n",
       "    .dataframe tbody tr th:only-of-type {\n",
       "        vertical-align: middle;\n",
       "    }\n",
       "\n",
       "    .dataframe tbody tr th {\n",
       "        vertical-align: top;\n",
       "    }\n",
       "\n",
       "    .dataframe thead th {\n",
       "        text-align: right;\n",
       "    }\n",
       "</style>\n",
       "<table border=\"1\" class=\"dataframe\">\n",
       "  <thead>\n",
       "    <tr style=\"text-align: right;\">\n",
       "      <th></th>\n",
       "      <th>customer_id</th>\n",
       "      <th>age</th>\n",
       "      <th>club_member_status</th>\n",
       "      <th>fashion_news_frequency</th>\n",
       "      <th>num_unique_items</th>\n",
       "      <th>num_purchases</th>\n",
       "      <th>mean_price</th>\n",
       "      <th>max_price</th>\n",
       "      <th>mean_channel</th>\n",
       "    </tr>\n",
       "  </thead>\n",
       "  <tbody>\n",
       "    <tr>\n",
       "      <th>0</th>\n",
       "      <td>00000dbacae5abe5e23885899a1fa44253a17956c6d1c3...</td>\n",
       "      <td>49.0</td>\n",
       "      <td>ACTIVE</td>\n",
       "      <td>NONE</td>\n",
       "      <td>19.0</td>\n",
       "      <td>21.0</td>\n",
       "      <td>0.030904</td>\n",
       "      <td>0.054220</td>\n",
       "      <td>1.571429</td>\n",
       "    </tr>\n",
       "    <tr>\n",
       "      <th>1</th>\n",
       "      <td>0000423b00ade91418cceaf3b26c6af3dd342b51fd051e...</td>\n",
       "      <td>25.0</td>\n",
       "      <td>ACTIVE</td>\n",
       "      <td>NONE</td>\n",
       "      <td>64.0</td>\n",
       "      <td>86.0</td>\n",
       "      <td>0.030255</td>\n",
       "      <td>0.084729</td>\n",
       "      <td>1.941860</td>\n",
       "    </tr>\n",
       "    <tr>\n",
       "      <th>2</th>\n",
       "      <td>000058a12d5b43e67d225668fa1f8d618c13dc232df0ca...</td>\n",
       "      <td>24.0</td>\n",
       "      <td>ACTIVE</td>\n",
       "      <td>NONE</td>\n",
       "      <td>14.0</td>\n",
       "      <td>18.0</td>\n",
       "      <td>0.039154</td>\n",
       "      <td>0.067780</td>\n",
       "      <td>2.000000</td>\n",
       "    </tr>\n",
       "    <tr>\n",
       "      <th>3</th>\n",
       "      <td>00005ca1c9ed5f5146b52ac8639a40ca9d57aeff4d1bd2...</td>\n",
       "      <td>54.0</td>\n",
       "      <td>ACTIVE</td>\n",
       "      <td>NONE</td>\n",
       "      <td>2.0</td>\n",
       "      <td>2.0</td>\n",
       "      <td>0.030492</td>\n",
       "      <td>0.030492</td>\n",
       "      <td>2.000000</td>\n",
       "    </tr>\n",
       "    <tr>\n",
       "      <th>4</th>\n",
       "      <td>00006413d8573cd20ed7128e53b7b13819fe5cfc2d801f...</td>\n",
       "      <td>52.0</td>\n",
       "      <td>ACTIVE</td>\n",
       "      <td>Regularly</td>\n",
       "      <td>12.0</td>\n",
       "      <td>13.0</td>\n",
       "      <td>0.036130</td>\n",
       "      <td>0.059305</td>\n",
       "      <td>1.846154</td>\n",
       "    </tr>\n",
       "  </tbody>\n",
       "</table>\n",
       "</div>"
      ],
      "text/plain": [
       "                                         customer_id   age club_member_status  \\\n",
       "0  00000dbacae5abe5e23885899a1fa44253a17956c6d1c3...  49.0             ACTIVE   \n",
       "1  0000423b00ade91418cceaf3b26c6af3dd342b51fd051e...  25.0             ACTIVE   \n",
       "2  000058a12d5b43e67d225668fa1f8d618c13dc232df0ca...  24.0             ACTIVE   \n",
       "3  00005ca1c9ed5f5146b52ac8639a40ca9d57aeff4d1bd2...  54.0             ACTIVE   \n",
       "4  00006413d8573cd20ed7128e53b7b13819fe5cfc2d801f...  52.0             ACTIVE   \n",
       "\n",
       "  fashion_news_frequency  num_unique_items  num_purchases  mean_price  \\\n",
       "0                   NONE              19.0           21.0    0.030904   \n",
       "1                   NONE              64.0           86.0    0.030255   \n",
       "2                   NONE              14.0           18.0    0.039154   \n",
       "3                   NONE               2.0            2.0    0.030492   \n",
       "4              Regularly              12.0           13.0    0.036130   \n",
       "\n",
       "   max_price  mean_channel  \n",
       "0   0.054220      1.571429  \n",
       "1   0.084729      1.941860  \n",
       "2   0.067780      2.000000  \n",
       "3   0.030492      2.000000  \n",
       "4   0.059305      1.846154  "
      ]
     },
     "execution_count": 31,
     "metadata": {},
     "output_type": "execute_result"
    }
   ],
   "source": [
    "customer_features.head(5)"
   ]
  },
  {
   "cell_type": "code",
   "execution_count": 29,
   "id": "88672136-1b24-47f3-ba0b-cbf2fbb259c5",
   "metadata": {},
   "outputs": [],
   "source": [
    "customer_features.to_csv('customer_features.csv', index=False)"
   ]
  },
  {
   "cell_type": "code",
   "execution_count": 30,
   "id": "0248727d-c327-4418-b067-b3b440783f43",
   "metadata": {},
   "outputs": [],
   "source": [
    "# 2. Articles Features. \n",
    "\n",
    "art = articles[[\"article_id\", \"product_code\", \"section_no\", \"department_no\", \"product_type_no\"]]\n",
    "\n",
    "# популярность товара\n",
    "article_stats = (\n",
    "    train_set.groupby(\"article_id\")\n",
    "    .agg(\n",
    "        sales_per_week=(\"article_id\", \"count\"),\n",
    "        mean_price=(\"price\", \"mean\"),\n",
    "        mean_channel=(\"sales_channel_id\", \"mean\"),\n",
    "    )\n",
    "    .reset_index()\n",
    ")\n",
    "\n",
    "article_features = art.merge(article_stats, on=\"article_id\", how=\"left\")"
   ]
  },
  {
   "cell_type": "code",
   "execution_count": 31,
   "id": "d034f8ff-923e-463a-b49f-39bccc3374d2",
   "metadata": {},
   "outputs": [],
   "source": [
    "article_features.to_csv('article_features.csv', index=False)"
   ]
  },
  {
   "cell_type": "code",
   "execution_count": 33,
   "id": "146a0261-edb1-48a7-be4b-c02c05f29537",
   "metadata": {},
   "outputs": [
    {
     "data": {
      "text/html": [
       "<div>\n",
       "<style scoped>\n",
       "    .dataframe tbody tr th:only-of-type {\n",
       "        vertical-align: middle;\n",
       "    }\n",
       "\n",
       "    .dataframe tbody tr th {\n",
       "        vertical-align: top;\n",
       "    }\n",
       "\n",
       "    .dataframe thead th {\n",
       "        text-align: right;\n",
       "    }\n",
       "</style>\n",
       "<table border=\"1\" class=\"dataframe\">\n",
       "  <thead>\n",
       "    <tr style=\"text-align: right;\">\n",
       "      <th></th>\n",
       "      <th>article_id</th>\n",
       "      <th>product_code</th>\n",
       "      <th>section_no</th>\n",
       "      <th>department_no</th>\n",
       "      <th>product_type_no</th>\n",
       "      <th>sales_per_week</th>\n",
       "      <th>mean_price</th>\n",
       "      <th>mean_channel</th>\n",
       "    </tr>\n",
       "  </thead>\n",
       "  <tbody>\n",
       "    <tr>\n",
       "      <th>0</th>\n",
       "      <td>108775015</td>\n",
       "      <td>108775</td>\n",
       "      <td>16</td>\n",
       "      <td>1676</td>\n",
       "      <td>253</td>\n",
       "      <td>10841.0</td>\n",
       "      <td>0.008142</td>\n",
       "      <td>1.770778</td>\n",
       "    </tr>\n",
       "    <tr>\n",
       "      <th>1</th>\n",
       "      <td>108775044</td>\n",
       "      <td>108775</td>\n",
       "      <td>16</td>\n",
       "      <td>1676</td>\n",
       "      <td>253</td>\n",
       "      <td>7247.0</td>\n",
       "      <td>0.008114</td>\n",
       "      <td>1.710087</td>\n",
       "    </tr>\n",
       "    <tr>\n",
       "      <th>2</th>\n",
       "      <td>108775051</td>\n",
       "      <td>108775</td>\n",
       "      <td>16</td>\n",
       "      <td>1676</td>\n",
       "      <td>253</td>\n",
       "      <td>215.0</td>\n",
       "      <td>0.004980</td>\n",
       "      <td>1.995349</td>\n",
       "    </tr>\n",
       "    <tr>\n",
       "      <th>3</th>\n",
       "      <td>110065001</td>\n",
       "      <td>110065</td>\n",
       "      <td>61</td>\n",
       "      <td>1339</td>\n",
       "      <td>306</td>\n",
       "      <td>1044.0</td>\n",
       "      <td>0.020219</td>\n",
       "      <td>1.375479</td>\n",
       "    </tr>\n",
       "    <tr>\n",
       "      <th>4</th>\n",
       "      <td>110065002</td>\n",
       "      <td>110065</td>\n",
       "      <td>61</td>\n",
       "      <td>1339</td>\n",
       "      <td>306</td>\n",
       "      <td>539.0</td>\n",
       "      <td>0.018205</td>\n",
       "      <td>1.654917</td>\n",
       "    </tr>\n",
       "  </tbody>\n",
       "</table>\n",
       "</div>"
      ],
      "text/plain": [
       "   article_id  product_code  section_no  department_no  product_type_no  \\\n",
       "0   108775015        108775          16           1676              253   \n",
       "1   108775044        108775          16           1676              253   \n",
       "2   108775051        108775          16           1676              253   \n",
       "3   110065001        110065          61           1339              306   \n",
       "4   110065002        110065          61           1339              306   \n",
       "\n",
       "   sales_per_week  mean_price  mean_channel  \n",
       "0         10841.0    0.008142      1.770778  \n",
       "1          7247.0    0.008114      1.710087  \n",
       "2           215.0    0.004980      1.995349  \n",
       "3          1044.0    0.020219      1.375479  \n",
       "4           539.0    0.018205      1.654917  "
      ]
     },
     "execution_count": 33,
     "metadata": {},
     "output_type": "execute_result"
    }
   ],
   "source": [
    "article_features.head(5)"
   ]
  },
  {
   "cell_type": "code",
   "execution_count": 1,
   "id": "213a2951-d889-41c4-b322-6e7242e6298e",
   "metadata": {},
   "outputs": [],
   "source": [
    "# 3. Customer × Article features\n",
    "last_purchase = (\n",
    "    train_set.groupby([\"customer_id\", \"article_id\"])[\"t_dat\"]\n",
    "    .max()\n",
    "    .reset_index()\n",
    "    .rename(columns={\"t_dat\": \"last_purchase_date\"})\n",
    ")"
   ]
  },
  {
   "cell_type": "code",
   "execution_count": 2,
   "id": "4fc00cfa-a20b-4638-87af-d96f758e3121",
   "metadata": {},
   "outputs": [],
   "source": [
    "data = pd.read_csv('final_candidates.csv')\n"
   ]
  },
  {
   "cell_type": "code",
   "execution_count": 3,
   "id": "24320f1d-c6a0-49b1-921c-7cd88cd25303",
   "metadata": {},
   "outputs": [],
   "source": [
    "article_features = pd.read_csv('article_features.csv')"
   ]
  },
  {
   "cell_type": "code",
   "execution_count": 4,
   "id": "c0ada9ab-6bd5-416c-9696-69d3ad33ddba",
   "metadata": {},
   "outputs": [],
   "source": [
    "customer_features = pd.read_csv('customer_features.csv')"
   ]
  },
  {
   "cell_type": "code",
   "execution_count": 32,
   "id": "10b7ec2c-afc6-4322-a4ee-b5ccbaba1cca",
   "metadata": {},
   "outputs": [],
   "source": [
    "data = final_candidates.copy()"
   ]
  },
  {
   "cell_type": "code",
   "execution_count": 33,
   "id": "de32db9d-829e-4c31-9e88-725f54032f14",
   "metadata": {},
   "outputs": [],
   "source": [
    "# 4. Merge on \n",
    "data = data.merge(customer_features, on=\"customer_id\", how=\"left\")\n"
   ]
  },
  {
   "cell_type": "code",
   "execution_count": 34,
   "id": "3f0bda56-8d7a-4b0a-a33e-2d3727db0336",
   "metadata": {},
   "outputs": [],
   "source": [
    "data = data.merge(article_features, on=\"article_id\", how=\"left\")"
   ]
  },
  {
   "cell_type": "code",
   "execution_count": 35,
   "id": "62c9af09-da55-451f-807f-ed0fed48662f",
   "metadata": {},
   "outputs": [],
   "source": [
    "for col in data.select_dtypes(include=[np.number]).columns:\n",
    "    data[col] = data[col].fillna(0)"
   ]
  },
  {
   "cell_type": "code",
   "execution_count": 36,
   "id": "31e61e37-ed86-44d9-8526-1d301bfd1a0e",
   "metadata": {},
   "outputs": [],
   "source": [
    "data.to_csv('candidates_features_chunk.csv', index=False)"
   ]
  },
  {
   "cell_type": "code",
   "execution_count": null,
   "id": "c363d6a9-ea6f-412d-9c1a-d43403f5363b",
   "metadata": {},
   "outputs": [],
   "source": []
  }
 ],
 "metadata": {
  "kernelspec": {
   "display_name": "Python 3 (ipykernel)",
   "language": "python",
   "name": "python3"
  },
  "language_info": {
   "codemirror_mode": {
    "name": "ipython",
    "version": 3
   },
   "file_extension": ".py",
   "mimetype": "text/x-python",
   "name": "python",
   "nbconvert_exporter": "python",
   "pygments_lexer": "ipython3",
   "version": "3.9.13"
  }
 },
 "nbformat": 4,
 "nbformat_minor": 5
}
