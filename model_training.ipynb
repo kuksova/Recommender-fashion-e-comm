{
 "cells": [
  {
   "cell_type": "code",
   "execution_count": 4,
   "id": "c0891eaf-6ffe-43c9-aa59-39a11d0097dd",
   "metadata": {},
   "outputs": [],
   "source": [
    "import numpy as np\n",
    "import pandas as pd\n",
    "\n",
    "# IMPORTANT: This notebook is done for CHUCK of test set. "
   ]
  },
  {
   "cell_type": "code",
   "execution_count": 6,
   "id": "ce8a997d-3095-46c5-942e-4f53c5ea56d9",
   "metadata": {},
   "outputs": [
    {
     "data": {
      "text/plain": [
       "(31788324, 5)"
      ]
     },
     "execution_count": 6,
     "metadata": {},
     "output_type": "execute_result"
    }
   ],
   "source": [
    "transactions = pd.read_csv('../personalized-fashion-recommendations/transactions_train.csv')\n",
    "transactions.shape"
   ]
  },
  {
   "cell_type": "code",
   "execution_count": 7,
   "id": "d094be07-8223-4e8b-b72d-9543dfa87141",
   "metadata": {},
   "outputs": [
    {
     "data": {
      "text/plain": [
       "('2020-09-16', '2020-09-22')"
      ]
     },
     "execution_count": 7,
     "metadata": {},
     "output_type": "execute_result"
    }
   ],
   "source": [
    "split_date = '2020-09-16'\n",
    "train_set = transactions[transactions['t_dat']<split_date]  # \n",
    "test_set = transactions[transactions['t_dat']>=split_date] # '2020-09-16' - '2020-09-22'\n",
    "test_set['t_dat'].min(), test_set['t_dat'].max()"
   ]
  },
  {
   "cell_type": "code",
   "execution_count": 8,
   "id": "91deb5e7-127a-448c-a924-a44d192f7bfe",
   "metadata": {},
   "outputs": [
    {
     "name": "stdout",
     "output_type": "stream",
     "text": [
      "Old users: 92.45%, New users: 7.55%\n",
      "(10000, 5)\n"
     ]
    }
   ],
   "source": [
    "train_users = set(train_set[\"customer_id\"].unique())\n",
    "\n",
    "test_old = test_set[test_set[\"customer_id\"].isin(train_users)]\n",
    "test_new = test_set[~test_set[\"customer_id\"].isin(train_users)]\n",
    "\n",
    "p_old = len(test_old) / len(test_set)\n",
    "p_new = len(test_new) / len(test_set)\n",
    "print(f\"Old users: {p_old:.2%}, New users: {p_new:.2%}\")\n",
    "\n",
    "# Collect proportional chunk\n",
    "chunk_size = 10000  # flexible count\n",
    "n_old = int(chunk_size * p_old)\n",
    "n_new = chunk_size - n_old\n",
    "\n",
    "chunk_old = test_old.sample(n_old, random_state=42)\n",
    "chunk_new = test_new.sample(n_new, random_state=42)\n",
    "\n",
    "chunk_of_test_set = pd.concat([chunk_old, chunk_new], ignore_index=True)\n",
    "\n",
    "print(chunk_of_test_set.shape)"
   ]
  },
  {
   "cell_type": "code",
   "execution_count": 9,
   "id": "57c5272a-98d6-4689-941b-b51c260c8cae",
   "metadata": {},
   "outputs": [],
   "source": [
    "chunk_of_test_set.to_csv('chunk_of_test_set.csv', index=False)"
   ]
  },
  {
   "cell_type": "code",
   "execution_count": 73,
   "id": "ef38c1a1-7980-4468-8d7d-dda1e9257684",
   "metadata": {},
   "outputs": [],
   "source": [
    "lookup_set = set(chunk_of_test_set['customer_id'].tolist())\n",
    "ttr1 = train_set[train_set['customer_id'].isin(lookup_set)].copy()\n",
    "ttr1.to_csv('chunk_of_train_set.csv', index=False)"
   ]
  },
  {
   "cell_type": "code",
   "execution_count": 74,
   "id": "0f6f9e84-05c3-4fb8-ae39-b00dc167373b",
   "metadata": {},
   "outputs": [
    {
     "data": {
      "text/plain": [
       "672999"
      ]
     },
     "execution_count": 74,
     "metadata": {},
     "output_type": "execute_result"
    }
   ],
   "source": [
    "len(ttr1)"
   ]
  },
  {
   "cell_type": "markdown",
   "id": "0b5768be-49ab-4fb0-bb3b-5c5662e4a799",
   "metadata": {},
   "source": [
    "### Add Target. Build data for the model training. \n",
    "\n",
    "Tasks:\n",
    "Add a target (0/1) for (customer_id, article_id).\n",
    "1 if the product was purchased by the user in the validation week (2020-09-16 → 2020-09-22).\n",
    "0 — otherwise.\n",
    "Prepare the data for training (split X, y)."
   ]
  },
  {
   "cell_type": "code",
   "execution_count": 5,
   "id": "be080635-661f-45d7-8e49-29d3268bc582",
   "metadata": {},
   "outputs": [],
   "source": [
    "candidates_features = pd.read_csv('candidates_features_chunk.csv')"
   ]
  },
  {
   "cell_type": "code",
   "execution_count": 10,
   "id": "ec3a558c-c858-436b-ac59-94287e5e3529",
   "metadata": {},
   "outputs": [],
   "source": [
    "# 1. Create a target during the validation week\n",
    "\n",
    "val_purchases = (\n",
    "    chunk_of_test_set[[\"customer_id\", \"article_id\"]]\n",
    "    .drop_duplicates()\n",
    "    .assign(label=1)\n",
    ")"
   ]
  },
  {
   "cell_type": "code",
   "execution_count": 11,
   "id": "2de8b667-02de-429e-95c7-684ec963c073",
   "metadata": {},
   "outputs": [],
   "source": [
    "candidates_features = candidates_features.merge(val_purchases, on=[\"customer_id\", \"article_id\"], how=\"left\")\n",
    "candidates_features[\"label\"] = candidates_features[\"label\"].fillna(0).astype(int)\n"
   ]
  },
  {
   "cell_type": "code",
   "execution_count": 2,
   "id": "1a16e9dc-95a8-41e9-a400-46bf0ed8e260",
   "metadata": {},
   "outputs": [],
   "source": [
    "# 2. X (features) и y (target)\n",
    "\n",
    "# remove identifiers and last_purchase_date, article_id (we'll leave it as a feature after the conversion)\n",
    "drop_cols = [\"customer_id\", \"article_id\", \"club_member_status\",\t\"fashion_news_frequency\"]\n",
    "X = candidates_features.drop(columns=drop_cols + [\"label\"])"
   ]
  },
  {
   "cell_type": "code",
   "execution_count": 28,
   "id": "2e3e702c-3d06-4d52-95cc-2f58b043cde9",
   "metadata": {},
   "outputs": [],
   "source": [
    "\n",
    "X = candidates_features.drop(columns=drop_cols + [\"label\"])"
   ]
  },
  {
   "cell_type": "code",
   "execution_count": 29,
   "id": "1909170f-c246-4c04-a0ee-74adfd6e8395",
   "metadata": {},
   "outputs": [],
   "source": [
    "y = candidates_features[\"label\"]"
   ]
  },
  {
   "cell_type": "code",
   "execution_count": 30,
   "id": "dd3dff7e-928e-4fc2-9994-a2500a33b5ee",
   "metadata": {},
   "outputs": [
    {
     "data": {
      "text/html": [
       "<div>\n",
       "<style scoped>\n",
       "    .dataframe tbody tr th:only-of-type {\n",
       "        vertical-align: middle;\n",
       "    }\n",
       "\n",
       "    .dataframe tbody tr th {\n",
       "        vertical-align: top;\n",
       "    }\n",
       "\n",
       "    .dataframe thead th {\n",
       "        text-align: right;\n",
       "    }\n",
       "</style>\n",
       "<table border=\"1\" class=\"dataframe\">\n",
       "  <thead>\n",
       "    <tr style=\"text-align: right;\">\n",
       "      <th></th>\n",
       "      <th>age</th>\n",
       "      <th>num_unique_items</th>\n",
       "      <th>num_purchases</th>\n",
       "      <th>mean_price_x</th>\n",
       "      <th>max_price</th>\n",
       "      <th>mean_channel_x</th>\n",
       "      <th>product_code</th>\n",
       "      <th>section_no</th>\n",
       "      <th>department_no</th>\n",
       "      <th>product_type_no</th>\n",
       "      <th>sales_per_week</th>\n",
       "      <th>mean_price_y</th>\n",
       "      <th>mean_channel_y</th>\n",
       "    </tr>\n",
       "  </thead>\n",
       "  <tbody>\n",
       "    <tr>\n",
       "      <th>0</th>\n",
       "      <td>23.0</td>\n",
       "      <td>57.0</td>\n",
       "      <td>63.0</td>\n",
       "      <td>0.030586</td>\n",
       "      <td>0.06778</td>\n",
       "      <td>1.936508</td>\n",
       "      <td>733803</td>\n",
       "      <td>51</td>\n",
       "      <td>1643</td>\n",
       "      <td>274</td>\n",
       "      <td>22.0</td>\n",
       "      <td>0.010010</td>\n",
       "      <td>2.000000</td>\n",
       "    </tr>\n",
       "    <tr>\n",
       "      <th>1</th>\n",
       "      <td>23.0</td>\n",
       "      <td>57.0</td>\n",
       "      <td>63.0</td>\n",
       "      <td>0.030586</td>\n",
       "      <td>0.06778</td>\n",
       "      <td>1.936508</td>\n",
       "      <td>733803</td>\n",
       "      <td>51</td>\n",
       "      <td>1643</td>\n",
       "      <td>274</td>\n",
       "      <td>14.0</td>\n",
       "      <td>0.011615</td>\n",
       "      <td>2.000000</td>\n",
       "    </tr>\n",
       "    <tr>\n",
       "      <th>2</th>\n",
       "      <td>23.0</td>\n",
       "      <td>57.0</td>\n",
       "      <td>63.0</td>\n",
       "      <td>0.030586</td>\n",
       "      <td>0.06778</td>\n",
       "      <td>1.936508</td>\n",
       "      <td>733803</td>\n",
       "      <td>51</td>\n",
       "      <td>1643</td>\n",
       "      <td>274</td>\n",
       "      <td>10.0</td>\n",
       "      <td>0.013407</td>\n",
       "      <td>2.000000</td>\n",
       "    </tr>\n",
       "    <tr>\n",
       "      <th>3</th>\n",
       "      <td>23.0</td>\n",
       "      <td>57.0</td>\n",
       "      <td>63.0</td>\n",
       "      <td>0.030586</td>\n",
       "      <td>0.06778</td>\n",
       "      <td>1.936508</td>\n",
       "      <td>732842</td>\n",
       "      <td>57</td>\n",
       "      <td>1772</td>\n",
       "      <td>272</td>\n",
       "      <td>149.0</td>\n",
       "      <td>0.065490</td>\n",
       "      <td>1.785235</td>\n",
       "    </tr>\n",
       "    <tr>\n",
       "      <th>4</th>\n",
       "      <td>23.0</td>\n",
       "      <td>57.0</td>\n",
       "      <td>63.0</td>\n",
       "      <td>0.030586</td>\n",
       "      <td>0.06778</td>\n",
       "      <td>1.936508</td>\n",
       "      <td>732842</td>\n",
       "      <td>57</td>\n",
       "      <td>1772</td>\n",
       "      <td>272</td>\n",
       "      <td>113.0</td>\n",
       "      <td>0.063689</td>\n",
       "      <td>1.681416</td>\n",
       "    </tr>\n",
       "  </tbody>\n",
       "</table>\n",
       "</div>"
      ],
      "text/plain": [
       "    age  num_unique_items  num_purchases  mean_price_x  max_price  \\\n",
       "0  23.0              57.0           63.0      0.030586    0.06778   \n",
       "1  23.0              57.0           63.0      0.030586    0.06778   \n",
       "2  23.0              57.0           63.0      0.030586    0.06778   \n",
       "3  23.0              57.0           63.0      0.030586    0.06778   \n",
       "4  23.0              57.0           63.0      0.030586    0.06778   \n",
       "\n",
       "   mean_channel_x  product_code  section_no  department_no  product_type_no  \\\n",
       "0        1.936508        733803          51           1643              274   \n",
       "1        1.936508        733803          51           1643              274   \n",
       "2        1.936508        733803          51           1643              274   \n",
       "3        1.936508        732842          57           1772              272   \n",
       "4        1.936508        732842          57           1772              272   \n",
       "\n",
       "   sales_per_week  mean_price_y  mean_channel_y  \n",
       "0            22.0      0.010010        2.000000  \n",
       "1            14.0      0.011615        2.000000  \n",
       "2            10.0      0.013407        2.000000  \n",
       "3           149.0      0.065490        1.785235  \n",
       "4           113.0      0.063689        1.681416  "
      ]
     },
     "execution_count": 30,
     "metadata": {},
     "output_type": "execute_result"
    }
   ],
   "source": [
    "X.head(5)"
   ]
  },
  {
   "cell_type": "code",
   "execution_count": 31,
   "id": "84bfee0b-f36f-45a4-b0ab-a699ddfcd34e",
   "metadata": {},
   "outputs": [
    {
     "name": "stdout",
     "output_type": "stream",
     "text": [
      "Dataset shape: (3086119, 18)\n",
      "Positive samples: 1054\n",
      "Negative samples: 3085065\n",
      "Feature matrix shape: (3086119, 13)\n"
     ]
    }
   ],
   "source": [
    "print(\"Dataset shape:\", candidates_features.shape)\n",
    "print(\"Positive samples:\", y.sum())\n",
    "print(\"Negative samples:\", (y == 0).sum())\n",
    "print(\"Feature matrix shape:\", X.shape)"
   ]
  },
  {
   "cell_type": "markdown",
   "id": "4fc2f6fd-f00d-4020-a92f-44def330f085",
   "metadata": {},
   "source": [
    "### Шаг 4: Model Training."
   ]
  },
  {
   "cell_type": "raw",
   "id": "6d1a9517-8468-4fb9-968b-2bb0e36d8dfe",
   "metadata": {},
   "source": [
    "In this step:\n",
    "We use CatBoostClassifier.\n",
    "We account for strong imbalance (very few 1s, very many 0s) using the scale_pos_weight parameter.\n",
    "We split the data into train/valid time (as in the solution: before 2020-09-15 → training, September 16–22 → validation)."
   ]
  },
  {
   "cell_type": "code",
   "execution_count": 18,
   "id": "c5638d59-e693-4d49-b8d1-018edbfbb4c4",
   "metadata": {},
   "outputs": [],
   "source": [
    "from catboost import CatBoostClassifier, Pool\n",
    "from sklearn.model_selection import train_test_split"
   ]
  },
  {
   "cell_type": "code",
   "execution_count": 32,
   "id": "2ee918f4-1482-4d11-9495-36b6ee2b7b82",
   "metadata": {},
   "outputs": [],
   "source": [
    "# For simplicity 80/20 split\n",
    "X_train, X_valid, y_train, y_valid = train_test_split(\n",
    "    X, y, test_size=0.2, random_state=42, stratify=y\n",
    ")"
   ]
  },
  {
   "cell_type": "code",
   "execution_count": 33,
   "id": "45f13d07-b13e-48cf-944f-296d6ec1c670",
   "metadata": {},
   "outputs": [
    {
     "name": "stdout",
     "output_type": "stream",
     "text": [
      "Positive: 843, Negative: 2468052, scale_pos_weight=731\n"
     ]
    }
   ],
   "source": [
    "# 2. Adjust class weights\n",
    "# ------------------------\n",
    "pos = y_train.sum()\n",
    "neg = len(y_train) - pos\n",
    "scale_pos_weight = max(1, int(neg / pos / 4))  # автор брал 100 вместо теоретических ~394\n",
    "\n",
    "print(f\"Positive: {pos}, Negative: {neg}, scale_pos_weight={scale_pos_weight}\")"
   ]
  },
  {
   "cell_type": "code",
   "execution_count": 34,
   "id": "b17bd0f9-7c15-4798-a6e4-05788ba689bf",
   "metadata": {},
   "outputs": [],
   "source": [
    "# 3. CatBoostClassifier\n",
    "# ------------------------\n",
    "train_pool = Pool(X_train, y_train)\n",
    "valid_pool = Pool(X_valid, y_valid)\n",
    "\n",
    "model = CatBoostClassifier(\n",
    "    iterations=1000,\n",
    "    learning_rate=0.05,\n",
    "    depth=8,\n",
    "    eval_metric=\"AUC\",\n",
    "    scale_pos_weight=scale_pos_weight,\n",
    "    random_seed=42,\n",
    "    verbose=100,\n",
    "    task_type=\"CPU\"  \n",
    ")"
   ]
  },
  {
   "cell_type": "code",
   "execution_count": 35,
   "id": "d1f8ad84-5c60-4275-88d7-e827eae0d973",
   "metadata": {},
   "outputs": [
    {
     "name": "stdout",
     "output_type": "stream",
     "text": [
      "0:\ttest: 0.7205534\tbest: 0.7205534 (0)\ttotal: 182ms\tremaining: 3m 2s\n",
      "100:\ttest: 0.7837104\tbest: 0.8142085 (41)\ttotal: 11.7s\tremaining: 1m 44s\n",
      "200:\ttest: 0.7536942\tbest: 0.8142085 (41)\ttotal: 23.3s\tremaining: 1m 32s\n",
      "300:\ttest: 0.7267304\tbest: 0.8142085 (41)\ttotal: 35s\tremaining: 1m 21s\n",
      "400:\ttest: 0.7111738\tbest: 0.8142085 (41)\ttotal: 46.6s\tremaining: 1m 9s\n",
      "500:\ttest: 0.7030318\tbest: 0.8142085 (41)\ttotal: 58.4s\tremaining: 58.2s\n",
      "600:\ttest: 0.6931081\tbest: 0.8142085 (41)\ttotal: 1m 10s\tremaining: 46.6s\n",
      "700:\ttest: 0.6866038\tbest: 0.8142085 (41)\ttotal: 1m 22s\tremaining: 35s\n",
      "800:\ttest: 0.6792764\tbest: 0.8142085 (41)\ttotal: 1m 34s\tremaining: 23.4s\n",
      "900:\ttest: 0.6692636\tbest: 0.8142085 (41)\ttotal: 1m 46s\tremaining: 11.7s\n",
      "999:\ttest: 0.6666996\tbest: 0.8142085 (41)\ttotal: 1m 58s\tremaining: 0us\n",
      "\n",
      "bestTest = 0.8142085126\n",
      "bestIteration = 41\n",
      "\n",
      "Shrink model to first 42 iterations.\n"
     ]
    },
    {
     "data": {
      "text/plain": [
       "<catboost.core.CatBoostClassifier at 0x2d35a66d0>"
      ]
     },
     "execution_count": 35,
     "metadata": {},
     "output_type": "execute_result"
    }
   ],
   "source": [
    "# 4. Обучение\n",
    "# ------------------------\n",
    "model.fit(train_pool, eval_set=valid_pool, use_best_model=True)"
   ]
  },
  {
   "cell_type": "code",
   "execution_count": 36,
   "id": "fc8116f3-bd21-4859-bb0a-d03de67e330d",
   "metadata": {},
   "outputs": [
    {
     "name": "stdout",
     "output_type": "stream",
     "text": [
      "Validation AUC: 0.8142085125707638\n"
     ]
    }
   ],
   "source": [
    "# 6. Оценка\n",
    "# ------------------------\n",
    "from sklearn.metrics import roc_auc_score\n",
    "\n",
    "y_pred = model.predict_proba(X_valid)[:, 1]\n",
    "auc = roc_auc_score(y_valid, y_pred)\n",
    "print(\"Validation AUC:\", auc)"
   ]
  },
  {
   "cell_type": "code",
   "execution_count": null,
   "id": "4677badd-55b5-4188-b13a-605696b3a561",
   "metadata": {},
   "outputs": [],
   "source": []
  },
  {
   "cell_type": "code",
   "execution_count": 44,
   "id": "7658ccc6-8436-4c89-9f1c-5cf82dd9bb66",
   "metadata": {},
   "outputs": [],
   "source": [
    "drop_cols = [\"club_member_status\",\t\"fashion_news_frequency\"]\n",
    "data = candidates_features.drop(columns=drop_cols)\n",
    "\n",
    " "
   ]
  },
  {
   "cell_type": "markdown",
   "id": "1b5d6278-2229-4bcd-92bf-94174b85ff94",
   "metadata": {},
   "source": [
    "### Предсказания модели для всех кандидатов. "
   ]
  },
  {
   "cell_type": "code",
   "execution_count": 45,
   "id": "68cd11ec-0e81-49c8-a9e0-a1537b710404",
   "metadata": {},
   "outputs": [],
   "source": [
    "# 1. Model predictions for all candidates\n",
    "# data: dataframe with candidate features\n",
    "# model: trained CatBoost \n",
    "\n",
    "data[\"pred_prob\"] = model.predict_proba(data.drop(columns=[\"customer_id\", \"article_id\", \"label\"], errors='ignore'))[:, 1]\n"
   ]
  },
  {
   "cell_type": "code",
   "execution_count": 46,
   "id": "45d19046-9274-4055-8b40-27ae4e01c802",
   "metadata": {},
   "outputs": [],
   "source": [
    "# 2. We take the top 12 products for each client with a history\n",
    "user_candidates = (\n",
    "    data.sort_values([\"customer_id\", \"pred_prob\"], ascending=[True, False])\n",
    "    .groupby(\"customer_id\")[\"article_id\"]\n",
    "    .apply(lambda x: list(x.head(12)))\n",
    "    .reset_index(name=\"predictions\")\n",
    ")"
   ]
  },
  {
   "cell_type": "code",
   "execution_count": 48,
   "id": "67b5376d-097a-4e1c-b2f7-1b3e664e95d9",
   "metadata": {},
   "outputs": [
    {
     "data": {
      "text/html": [
       "<div>\n",
       "<style scoped>\n",
       "    .dataframe tbody tr th:only-of-type {\n",
       "        vertical-align: middle;\n",
       "    }\n",
       "\n",
       "    .dataframe tbody tr th {\n",
       "        vertical-align: top;\n",
       "    }\n",
       "\n",
       "    .dataframe thead th {\n",
       "        text-align: right;\n",
       "    }\n",
       "</style>\n",
       "<table border=\"1\" class=\"dataframe\">\n",
       "  <thead>\n",
       "    <tr style=\"text-align: right;\">\n",
       "      <th></th>\n",
       "      <th>customer_id</th>\n",
       "      <th>predictions</th>\n",
       "    </tr>\n",
       "  </thead>\n",
       "  <tbody>\n",
       "    <tr>\n",
       "      <th>0</th>\n",
       "      <td>00077dbd5c4a4991e092e63893ccf29294a9d5c46e8501...</td>\n",
       "      <td>[448509014, 933989002, 448509001, 933989001, 7...</td>\n",
       "    </tr>\n",
       "    <tr>\n",
       "      <th>1</th>\n",
       "      <td>0026ebdd70715d8fa2befa14dfed317a1ffe5451aba839...</td>\n",
       "      <td>[751471001, 909370001, 915529003, 896152002, 9...</td>\n",
       "    </tr>\n",
       "    <tr>\n",
       "      <th>2</th>\n",
       "      <td>003ca8034fe32b9bab8e1c03d74c972abd80dccf84a302...</td>\n",
       "      <td>[889370002, 889370001, 706016001, 915529003, 9...</td>\n",
       "    </tr>\n",
       "    <tr>\n",
       "      <th>3</th>\n",
       "      <td>00465ec96dd32dca19f85108cbce142de6667a7ace8208...</td>\n",
       "      <td>[909370001, 915526001, 915529003, 706016001, 8...</td>\n",
       "    </tr>\n",
       "    <tr>\n",
       "      <th>4</th>\n",
       "      <td>004c3751ed6f9dfc98b870291c95be6702d3afa97d9467...</td>\n",
       "      <td>[706016001, 891375001, 909370001, 915529003, 9...</td>\n",
       "    </tr>\n",
       "  </tbody>\n",
       "</table>\n",
       "</div>"
      ],
      "text/plain": [
       "                                         customer_id  \\\n",
       "0  00077dbd5c4a4991e092e63893ccf29294a9d5c46e8501...   \n",
       "1  0026ebdd70715d8fa2befa14dfed317a1ffe5451aba839...   \n",
       "2  003ca8034fe32b9bab8e1c03d74c972abd80dccf84a302...   \n",
       "3  00465ec96dd32dca19f85108cbce142de6667a7ace8208...   \n",
       "4  004c3751ed6f9dfc98b870291c95be6702d3afa97d9467...   \n",
       "\n",
       "                                         predictions  \n",
       "0  [448509014, 933989002, 448509001, 933989001, 7...  \n",
       "1  [751471001, 909370001, 915529003, 896152002, 9...  \n",
       "2  [889370002, 889370001, 706016001, 915529003, 9...  \n",
       "3  [909370001, 915526001, 915529003, 706016001, 8...  \n",
       "4  [706016001, 891375001, 909370001, 915529003, 9...  "
      ]
     },
     "execution_count": 48,
     "metadata": {},
     "output_type": "execute_result"
    }
   ],
   "source": [
    "user_candidates.head(5)"
   ]
  },
  {
   "cell_type": "code",
   "execution_count": 47,
   "id": "c7af2b08-1ea3-4004-876f-f5c6f3de9f95",
   "metadata": {},
   "outputs": [],
   "source": [
    "ground_truth = chunk_of_test_set.groupby('customer_id')['article_id'].apply(set).to_dict()"
   ]
  },
  {
   "cell_type": "code",
   "execution_count": 49,
   "id": "abdac779-e655-482b-abc3-679281fd5bfd",
   "metadata": {},
   "outputs": [],
   "source": [
    "# 3. New clients (no history)\n",
    "\n",
    "existing_customers = set(chunk_old[\"customer_id\"])\n",
    "new_customers = set(chunk_new[\"customer_id\"])\n"
   ]
  },
  {
   "cell_type": "code",
   "execution_count": 51,
   "id": "eea47b95-3892-45fe-aab4-e4dc508d6678",
   "metadata": {},
   "outputs": [],
   "source": [
    "# Global Top 12 Popular Products (by Likelihood or Sales)\n",
    "top12_global = data.groupby(\"article_id\")[\"pred_prob\"].mean().sort_values(ascending=False).head(12).index.tolist()\n"
   ]
  },
  {
   "cell_type": "code",
   "execution_count": null,
   "id": "d2240518-2d25-455f-828f-ce8fee5f4ac3",
   "metadata": {},
   "outputs": [],
   "source": []
  },
  {
   "cell_type": "code",
   "execution_count": 52,
   "id": "ef091fae-2c38-4bfc-b995-5fcd0ada755b",
   "metadata": {},
   "outputs": [],
   "source": [
    "# 4. Build DataFrame for new clients\n",
    "new_cust_df = pd.DataFrame({\n",
    "    \"customer_id\": list(new_customers),\n",
    "    \"predictions\": [top12_global]*len(new_customers)\n",
    "})\n"
   ]
  },
  {
   "cell_type": "code",
   "execution_count": 53,
   "id": "d91bd226-493a-45b5-82f6-4ed586351d43",
   "metadata": {},
   "outputs": [],
   "source": [
    "\n",
    "final_submission = pd.concat([user_candidates, new_cust_df], ignore_index=True)\n"
   ]
  },
  {
   "cell_type": "code",
   "execution_count": null,
   "id": "7cb0e6af-fb62-415a-a6ab-bf09b6d55273",
   "metadata": {},
   "outputs": [],
   "source": [
    "# 6. Save to CSV\n",
    "#final_submission.to_csv(\"submission.csv\", index=False)\n",
    "\n",
    "#print(\"Submission ready:\", final_submission.shape)\n",
    "#print(final_submission.head())"
   ]
  },
  {
   "cell_type": "code",
   "execution_count": 55,
   "id": "6285e758-5e56-4aa1-ab8b-c128eede2647",
   "metadata": {},
   "outputs": [
    {
     "data": {
      "text/html": [
       "<div>\n",
       "<style scoped>\n",
       "    .dataframe tbody tr th:only-of-type {\n",
       "        vertical-align: middle;\n",
       "    }\n",
       "\n",
       "    .dataframe tbody tr th {\n",
       "        vertical-align: top;\n",
       "    }\n",
       "\n",
       "    .dataframe thead th {\n",
       "        text-align: right;\n",
       "    }\n",
       "</style>\n",
       "<table border=\"1\" class=\"dataframe\">\n",
       "  <thead>\n",
       "    <tr style=\"text-align: right;\">\n",
       "      <th></th>\n",
       "      <th>customer_id</th>\n",
       "      <th>predictions</th>\n",
       "    </tr>\n",
       "  </thead>\n",
       "  <tbody>\n",
       "    <tr>\n",
       "      <th>0</th>\n",
       "      <td>00077dbd5c4a4991e092e63893ccf29294a9d5c46e8501...</td>\n",
       "      <td>[448509014, 933989002, 448509001, 933989001, 7...</td>\n",
       "    </tr>\n",
       "    <tr>\n",
       "      <th>1</th>\n",
       "      <td>0026ebdd70715d8fa2befa14dfed317a1ffe5451aba839...</td>\n",
       "      <td>[751471001, 909370001, 915529003, 896152002, 9...</td>\n",
       "    </tr>\n",
       "    <tr>\n",
       "      <th>2</th>\n",
       "      <td>003ca8034fe32b9bab8e1c03d74c972abd80dccf84a302...</td>\n",
       "      <td>[889370002, 889370001, 706016001, 915529003, 9...</td>\n",
       "    </tr>\n",
       "    <tr>\n",
       "      <th>3</th>\n",
       "      <td>00465ec96dd32dca19f85108cbce142de6667a7ace8208...</td>\n",
       "      <td>[909370001, 915526001, 915529003, 706016001, 8...</td>\n",
       "    </tr>\n",
       "    <tr>\n",
       "      <th>4</th>\n",
       "      <td>004c3751ed6f9dfc98b870291c95be6702d3afa97d9467...</td>\n",
       "      <td>[706016001, 891375001, 909370001, 915529003, 9...</td>\n",
       "    </tr>\n",
       "  </tbody>\n",
       "</table>\n",
       "</div>"
      ],
      "text/plain": [
       "                                         customer_id  \\\n",
       "0  00077dbd5c4a4991e092e63893ccf29294a9d5c46e8501...   \n",
       "1  0026ebdd70715d8fa2befa14dfed317a1ffe5451aba839...   \n",
       "2  003ca8034fe32b9bab8e1c03d74c972abd80dccf84a302...   \n",
       "3  00465ec96dd32dca19f85108cbce142de6667a7ace8208...   \n",
       "4  004c3751ed6f9dfc98b870291c95be6702d3afa97d9467...   \n",
       "\n",
       "                                         predictions  \n",
       "0  [448509014, 933989002, 448509001, 933989001, 7...  \n",
       "1  [751471001, 909370001, 915529003, 896152002, 9...  \n",
       "2  [889370002, 889370001, 706016001, 915529003, 9...  \n",
       "3  [909370001, 915526001, 915529003, 706016001, 8...  \n",
       "4  [706016001, 891375001, 909370001, 915529003, 9...  "
      ]
     },
     "execution_count": 55,
     "metadata": {},
     "output_type": "execute_result"
    }
   ],
   "source": [
    "final_submission.head(5)"
   ]
  },
  {
   "cell_type": "code",
   "execution_count": null,
   "id": "aa00e703-071b-4189-8228-ed1c79b1481a",
   "metadata": {},
   "outputs": [],
   "source": []
  },
  {
   "cell_type": "code",
   "execution_count": 70,
   "id": "f556771d-c1a1-4aac-b04f-483ed59545b4",
   "metadata": {},
   "outputs": [
    {
     "name": "stdout",
     "output_type": "stream",
     "text": [
      "MAP@12: 0.0186\n"
     ]
    }
   ],
   "source": [
    "map12 = map_at_k(ground_truth, final_submission, k=12)\n",
    "print(f\"MAP@12: {map12:.4f}\")"
   ]
  },
  {
   "cell_type": "code",
   "execution_count": 69,
   "id": "01814ef7-2155-4ff7-9479-06b2ac58932b",
   "metadata": {},
   "outputs": [],
   "source": [
    "def map_at_k(ground_truth, user_candidates, k=12):\n",
    "\n",
    "    average_precisions = []\n",
    "    \n",
    "    for user, target_items in ground_truth.items():\n",
    "        #candidate_items = user_candidates.get(user, top_products)\n",
    "        candidate_items = (user_candidates[user_candidates['customer_id']==user]['predictions']).values[0]\n",
    "    \n",
    "        score = 0.0\n",
    "        hits = 0\n",
    "    \n",
    "        for i, p in enumerate(candidate_items):\n",
    "            if p in target_items:\n",
    "                hits += 1\n",
    "                score += hits / (i + 1)\n",
    "            #print(hits)\n",
    "    \n",
    "        if target_items:\n",
    "            average_precisions.append(score / min(len(target_items), k))\n",
    "        else:\n",
    "            average_precisions.append(0.0)\n",
    "    #print('average_precisions=', average_precisions, 'len(average_precisions) ', len(average_precisions))\n",
    "        \n",
    "\n",
    "    return sum(average_precisions) / len(average_precisions)"
   ]
  },
  {
   "cell_type": "code",
   "execution_count": 71,
   "id": "10946a89-f1cf-4fc6-a6a1-89e085966317",
   "metadata": {},
   "outputs": [],
   "source": [
    "# Let's just check for just top12 prediction. \n",
    "# ground_truth = chunk_of_test_set.groupby('customer_id')['article_id'].apply(set).to_dict()\n",
    "\n",
    "all_customers = set(chunk_of_test_set[\"customer_id\"])\n",
    "\n",
    "all_cust_df = pd.DataFrame({\n",
    "    \"customer_id\": list(all_customers),\n",
    "    \"predictions\": [top12_global]*len(all_customers)\n",
    "})"
   ]
  },
  {
   "cell_type": "code",
   "execution_count": 72,
   "id": "0b0f9603-9996-4e9e-b073-29c5aa3a8046",
   "metadata": {},
   "outputs": [
    {
     "name": "stdout",
     "output_type": "stream",
     "text": [
      "MAP@12: 0.0005\n"
     ]
    }
   ],
   "source": [
    "map12 = map_at_k(ground_truth, all_cust_df, k=12)\n",
    "print(f\"MAP@12: {map12:.4f}\")"
   ]
  },
  {
   "cell_type": "code",
   "execution_count": null,
   "id": "c53a1f3c-427e-44dd-9a43-aad2fe1c10ac",
   "metadata": {},
   "outputs": [],
   "source": [
    " "
   ]
  },
  {
   "cell_type": "code",
   "execution_count": null,
   "id": "6c96f89a-cd55-414b-8348-efac50d57d5a",
   "metadata": {},
   "outputs": [],
   "source": []
  },
  {
   "cell_type": "code",
   "execution_count": null,
   "id": "ce0f67b6-02ac-47b9-87f0-09bbfe8986e2",
   "metadata": {},
   "outputs": [],
   "source": []
  },
  {
   "cell_type": "code",
   "execution_count": 75,
   "id": "e425ad70-3850-48c3-879c-404122a9168d",
   "metadata": {},
   "outputs": [
    {
     "data": {
      "text/html": [
       "<div>\n",
       "<style scoped>\n",
       "    .dataframe tbody tr th:only-of-type {\n",
       "        vertical-align: middle;\n",
       "    }\n",
       "\n",
       "    .dataframe tbody tr th {\n",
       "        vertical-align: top;\n",
       "    }\n",
       "\n",
       "    .dataframe thead th {\n",
       "        text-align: right;\n",
       "    }\n",
       "</style>\n",
       "<table border=\"1\" class=\"dataframe\">\n",
       "  <thead>\n",
       "    <tr style=\"text-align: right;\">\n",
       "      <th></th>\n",
       "      <th>t_dat</th>\n",
       "      <th>customer_id</th>\n",
       "      <th>article_id</th>\n",
       "      <th>price</th>\n",
       "      <th>sales_channel_id</th>\n",
       "    </tr>\n",
       "  </thead>\n",
       "  <tbody>\n",
       "    <tr>\n",
       "      <th>0</th>\n",
       "      <td>2020-09-16</td>\n",
       "      <td>3126eddd0d6ad89f17f9638ac436ca0d0f771b20f4b3af...</td>\n",
       "      <td>929165002</td>\n",
       "      <td>0.050831</td>\n",
       "      <td>1</td>\n",
       "    </tr>\n",
       "    <tr>\n",
       "      <th>1</th>\n",
       "      <td>2020-09-16</td>\n",
       "      <td>f3e776a67652b61d1ead5a9a9464ab5664c6aa637e7fe5...</td>\n",
       "      <td>879605003</td>\n",
       "      <td>0.021254</td>\n",
       "      <td>2</td>\n",
       "    </tr>\n",
       "    <tr>\n",
       "      <th>2</th>\n",
       "      <td>2020-09-18</td>\n",
       "      <td>0589088ff0b5c2c36c4d581e764628d8924b99807351fc...</td>\n",
       "      <td>872973001</td>\n",
       "      <td>0.042356</td>\n",
       "      <td>2</td>\n",
       "    </tr>\n",
       "    <tr>\n",
       "      <th>3</th>\n",
       "      <td>2020-09-18</td>\n",
       "      <td>a9639efa091195ec82c27913d7c2d592bab0c7a1136418...</td>\n",
       "      <td>915611004</td>\n",
       "      <td>0.033881</td>\n",
       "      <td>1</td>\n",
       "    </tr>\n",
       "    <tr>\n",
       "      <th>4</th>\n",
       "      <td>2020-09-20</td>\n",
       "      <td>8c831d83e2b945139482dce3b86eef4ca4c9a0ecc43589...</td>\n",
       "      <td>780237003</td>\n",
       "      <td>0.084729</td>\n",
       "      <td>2</td>\n",
       "    </tr>\n",
       "  </tbody>\n",
       "</table>\n",
       "</div>"
      ],
      "text/plain": [
       "        t_dat                                        customer_id  article_id  \\\n",
       "0  2020-09-16  3126eddd0d6ad89f17f9638ac436ca0d0f771b20f4b3af...   929165002   \n",
       "1  2020-09-16  f3e776a67652b61d1ead5a9a9464ab5664c6aa637e7fe5...   879605003   \n",
       "2  2020-09-18  0589088ff0b5c2c36c4d581e764628d8924b99807351fc...   872973001   \n",
       "3  2020-09-18  a9639efa091195ec82c27913d7c2d592bab0c7a1136418...   915611004   \n",
       "4  2020-09-20  8c831d83e2b945139482dce3b86eef4ca4c9a0ecc43589...   780237003   \n",
       "\n",
       "      price  sales_channel_id  \n",
       "0  0.050831                 1  \n",
       "1  0.021254                 2  \n",
       "2  0.042356                 2  \n",
       "3  0.033881                 1  \n",
       "4  0.084729                 2  "
      ]
     },
     "execution_count": 75,
     "metadata": {},
     "output_type": "execute_result"
    }
   ],
   "source": [
    "chunk_of_test_set.head(5)"
   ]
  },
  {
   "cell_type": "code",
   "execution_count": null,
   "id": "33e817bd-2139-43a6-8c2d-0842764349db",
   "metadata": {},
   "outputs": [],
   "source": []
  }
 ],
 "metadata": {
  "kernelspec": {
   "display_name": "Python 3 (ipykernel)",
   "language": "python",
   "name": "python3"
  },
  "language_info": {
   "codemirror_mode": {
    "name": "ipython",
    "version": 3
   },
   "file_extension": ".py",
   "mimetype": "text/x-python",
   "name": "python",
   "nbconvert_exporter": "python",
   "pygments_lexer": "ipython3",
   "version": "3.9.13"
  }
 },
 "nbformat": 4,
 "nbformat_minor": 5
}
